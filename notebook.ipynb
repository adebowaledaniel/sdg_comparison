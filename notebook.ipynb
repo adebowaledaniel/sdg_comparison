{
 "cells": [
  {
   "cell_type": "markdown",
   "id": "a3e3ff02-6d68-4a2a-bc8c-33e693462684",
   "metadata": {},
   "source": [
    "SDG Indicator comparison\n",
    "- I. Read rasters\n",
    "- II. Zonal stats \n",
    "- III. Plot"
   ]
  },
  {
   "cell_type": "code",
   "execution_count": 1,
   "id": "f2930918-171d-4de5-bde1-37dfc3f9bb64",
   "metadata": {},
   "outputs": [],
   "source": [
    "#package\n",
    "import rasterio\n",
    "import geopandas as gp\n",
    "import numpy as np\n",
    "from rasterstats import zonal_stats\n",
    "from rasterio.plot import show"
   ]
  },
  {
   "cell_type": "code",
   "execution_count": 2,
   "id": "a9edcb99-c452-4da8-9c57-b7fb9d989948",
   "metadata": {},
   "outputs": [],
   "source": [
    "# data declaration\n",
    "trd = 'data/Trend earth/TE_Jigawa.tif' # trend earth \n",
    "spl = 'data/sepal/Jigawa_indicator_15_3_1_merge.tif' # sepal \n",
    "jig = 'data/Jigawa.shp' # from FAO GAUL"
   ]
  },
  {
   "cell_type": "code",
   "execution_count": 3,
   "id": "9b21687f-d601-46bf-8c14-3d01d1ac3066",
   "metadata": {},
   "outputs": [],
   "source": [
    "# Function for raster file descrition\n",
    "def RasIn(path):\n",
    "    \"\"\"\n",
    "    This function describe the raster depending on the raster path given:\n",
    "    path: Raster path\n",
    "    returns: raster description including the Nodata value and restoration label representative value\n",
    "    \"\"\"\n",
    "    with rasterio.open(path) as src:\n",
    "        array = src.read(1)\n",
    "    num = np.unique(array)\n",
    "    show(array)\n",
    "    print('Image shape: ', src.shape)\n",
    "    print('File path: ',src.name)\n",
    "    print('Unique values in raster : ', num)\n",
    "    print('Nodata:',num[0])\n",
    "    print('Degradation: %2d, Stable: %2d, Improvement: %2d' % (num[1],num[2],num[3]))"
   ]
  },
  {
   "cell_type": "code",
   "execution_count": 4,
   "id": "fe556d9d-3609-479c-bb44-19b3382313db",
   "metadata": {},
   "outputs": [
    {
     "data": {
      "image/png": "[encoded data removed]",
      "text/plain": [
       "<Figure size 432x288 with 1 Axes>"
      ]
     },
     "metadata": {
      "needs_background": "light"
     },
     "output_type": "display_data"
    },
    {
     "name": "stdout",
     "output_type": "stream",
     "text": [
      "Image shape:  (915, 1112)\n",
      "File path:  data/Trend earth/TE_Jigawa.tif\n",
      "Unique values in raster :  [-32768     -1      0      1]\n",
      "Nodata: -32768\n",
      "Degradation: -1, Stable:  0, Improvement:  1\n"
     ]
    }
   ],
   "source": [
    "RasIn(trd)"
   ]
  },
  {
   "cell_type": "code",
   "execution_count": 5,
   "id": "cb65fca6-67c1-49a7-95fe-0325446adaee",
   "metadata": {},
   "outputs": [],
   "source": [
    "def zon_stats(shp, sepal, trend):\n",
    "    \"\"\"\n",
    "    This function estimate the pixel based count of the sdg indicator 15.3.1 from both sepal and trend\n",
    "    input--\n",
    "    shp: the path the shapefile, read as geodataframe\n",
    "    sepal: sepal raster path\n",
    "    trend: trend raster path\n",
    "    ----\n",
    "    returns:\n",
    "    The area in Km^2 per category of the SDG 15.3.1 Indicator (Degraded, Stable and Improve)\n",
    "    \"\"\"\n",
    "    import rasterio\n",
    "    \n",
    "    #read sepal\n",
    "    src1 = rasterio.open(sepal) #read sepal\n",
    "    spl_arr = src1.read(1)\n",
    "    \n",
    "    #read trend earth\n",
    "    src2 = rasterio.open(trend)\n",
    "    tr_arr = src2.read(1)\n",
    "    \n",
    "    shf = gp.read_file(shp) # from FAO GAUL\n",
    "    \n",
    "    from rasterstats import zonal_stats\n",
    "    #zonal stats for sdg indicator module from seapl\n",
    "    c_sepal ={1:'Degraded', 2:'Stable',3:'Improved'} #categorical rename\n",
    "    affine_spl = src1.transform #affine selector\n",
    "    s_stats = zonal_stats(shf, spl_arr, affine=affine_spl, categorical=True, category_map=c_sepal, nodata=0.0) #zonal stats\n",
    "    \n",
    "    #zonal stats for trend earth\n",
    "    c_trend ={-1:'Degraded', 0:'Stable',1:'Improved'}\n",
    "    affine_trend = src2.transform\n",
    "    t_stats = zonal_stats(shf, tr_arr, affine=affine_trend, categorical=True, category_map=c_trend, nodata=-32768)\n",
    "\n",
    "    #\n",
    "    sepal_stats = s_stats[0]\n",
    "    sepal_stats.update((x,y*0.0001) for x,y in sepal_stats.items()) #0.0001 spatial resolution in Km^2\n",
    "    \n",
    "    trend_stats = t_stats[0]\n",
    "    trend_stats.update((x,y*0.0625) for x,y in trend_stats.items()) #0.0625\n",
    "    print('Area in Km^2 per category for SDG 15.3.1 Indicator module: ', sepal_stats)\n",
    "    print('Area in Km^2 per category for Trend earth SDG 15.3.1 Indicator:  ', trend_stats)\n",
    "    return sepal_stats, trend_stats"
   ]
  },
  {
   "cell_type": "code",
   "execution_count": 18,
   "id": "c50a4b5e-242a-440f-93c7-c18d72fec40c",
   "metadata": {},
   "outputs": [
    {
     "name": "stdout",
     "output_type": "stream",
     "text": [
      "Area in Km^2 per category for SDG 15.3.1 Indicator module:  {'Degraded': 602.9453, 'Stable': 1972.8008, 'Improved': 1.4466}\n",
      "Area in Km^2 per category for Trend earth SDG 15.3.1 Indicator:   {'Degraded': 5931.0, 'Stable': 12662.375, 'Improved': 5217.75}\n"
     ]
    }
   ],
   "source": [
    "sepal, trend = zon_stats(jig, spl, trd) #boundary shapefile, sepal raster and trend earth raster"
   ]
  },
  {
   "cell_type": "code",
   "execution_count": 20,
   "id": "4744c6f4-bbe9-4c40-aa23-91294abfab1c",
   "metadata": {},
   "outputs": [],
   "source": [
    "def chart(dict_in):\n",
    "    from matplotlib import pyplot as plt\n",
    "    dic = sorted(dict_in.items(), key=lambda kv: kv[1], reverse=True)\n",
    "    i,j =zip(*dic)\n",
    "\n",
    "    fig, ax = plt.subplots(figsize=(16, 9))\n",
    "    ax.barh(i, j)\n",
    "    ax.set_title('Pixel count per category in Area (SquareKM)')\n",
    "    for i in ax.patches:\n",
    "        plt.text(i.get_width()+0.2, i.get_y()+0.5,\n",
    "             str(round((i.get_width()), 2)),\n",
    "             fontsize=10, fontweight='bold',\n",
    "             color='grey')\n",
    "    "
   ]
  },
  {
   "cell_type": "code",
   "execution_count": 21,
   "id": "03fdc57a-8764-4292-a496-9458235a8087",
   "metadata": {},
   "outputs": [
    {
     "data": {
      "image/png": "[encoded data removed]",
      "text/plain": [
       "<Figure size 1152x648 with 1 Axes>"
      ]
     },
     "metadata": {
      "needs_background": "light"
     },
     "output_type": "display_data"
    }
   ],
   "source": [
    "chart(sepal)"
   ]
  },
  {
   "cell_type": "code",
   "execution_count": 22,
   "id": "2de7fa63-733c-4782-9a06-01fbf2175f4d",
   "metadata": {},
   "outputs": [
    {
     "data": {
      "image/png": "[encoded data removed]",
      "text/plain": [
       "<Figure size 1152x648 with 1 Axes>"
      ]
     },
     "metadata": {
      "needs_background": "light"
     },
     "output_type": "display_data"
    }
   ],
   "source": [
    "chart(trend)"
   ]
  }
 ],
 "metadata": {
  "kernelspec": {
   "display_name": "Python 3",
   "language": "python",
   "name": "python3"
  },
  "language_info": {
   "codemirror_mode": {
    "name": "ipython",
    "version": 3
   },
   "file_extension": ".py",
   "mimetype": "text/x-python",
   "name": "python",
   "nbconvert_exporter": "python",
   "pygments_lexer": "ipython3",
   "version": "3.7.10"
  }
 },
 "nbformat": 4,
 "nbformat_minor": 5
}
