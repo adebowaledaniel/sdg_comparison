{
 "cells": [
  {
   "cell_type": "markdown",
   "id": "e83cf91a-f9b3-49fd-84c7-e1183dbb3791",
   "metadata": {},
   "source": [
    "SDG Indicator comparison\n",
    "==="
   ]
  },
  {
   "cell_type": "code",
   "execution_count": 1,
   "id": "946a5216-6a54-4b4e-995b-a33e4a8a14a8",
   "metadata": {},
   "outputs": [],
   "source": [
    "#package\n",
    "import os\n",
    "import pathlib\n",
    "import rasterio\n",
    "import numpy as np\n",
    "import geopandas as gp\n",
    "from rasterstats import zonal_stats\n",
    "from rasterio.plot import show"
   ]
  },
  {
   "cell_type": "code",
   "execution_count": 2,
   "id": "afcbb970-1ef2-4914-a345-11c05cd8cbb4",
   "metadata": {},
   "outputs": [],
   "source": [
    "# Raster Reprojection\n",
    "from Reprojection import reprojection"
   ]
  },
  {
   "cell_type": "code",
   "execution_count": 3,
   "id": "5d3b1f28-0dca-48d1-8049-c6b9c56f66d2",
   "metadata": {},
   "outputs": [],
   "source": [
    "# Data Reprojection\n",
    "srcpath = \"data/sepal/Landsat/Jigawa/\"\n",
    "dstpath = \"data/sepal/Landsat/Jigawa/reprojected/\"\n",
    "dstcrs = 'EPSG:26332'\n",
    "# reprojection(srcpath, dstpath, dstcrs)"
   ]
  },
  {
   "cell_type": "markdown",
   "id": "48b6265a-bc7f-4603-9b41-109f8e0dd40f",
   "metadata": {},
   "source": [
    "Boundary shapefile\n",
    "==="
   ]
  },
  {
   "cell_type": "code",
   "execution_count": 4,
   "id": "8b66ba4d-112d-49df-9516-71ccbbc2cc3c",
   "metadata": {},
   "outputs": [],
   "source": [
    "boudary_shp_path = \"data/boundary shapefile/Jigawa.shp\" # from FAO GAU\"\n",
    "input_shapefile = gp.read_file(boudary_shp_path).to_crs(dstcrs)"
   ]
  },
  {
   "cell_type": "markdown",
   "id": "8efa55a4-9e67-4e73-bee0-d5f1204f2f40",
   "metadata": {},
   "source": [
    "Raster description\n",
    "====\n"
   ]
  },
  {
   "cell_type": "code",
   "execution_count": 6,
   "id": "cd62cb95-56a9-4592-89da-ffff2733e32b",
   "metadata": {},
   "outputs": [],
   "source": [
    "# Function for raster file descrition\n",
    "def rasterdesc(path):\n",
    "    \"\"\"\n",
    "    This function describe the raster depending on the raster path given:\n",
    "    path: Raster path\n",
    "    returns: raster description including the Nodata value and restoration label representative value\n",
    "    \"\"\"\n",
    "    with rasterio.open(path) as src:\n",
    "        array = src.read(1)\n",
    "    num = np.unique(array)\n",
    "    affine=src.transform\n",
    "#     show(array)\n",
    "    print('Image shape: ', src.shape)\n",
    "    print('File path: ',src.name)\n",
    "    print('Unique values in raster : ', num)\n",
    "    print('Nodata:',num[0])\n",
    "    print('Spatial Res:',affine[0])\n",
    "    print('Degradation: %2d, Stable: %2d, Improvement: %2d' % (num[1],num[2],num[3]))"
   ]
  },
  {
   "cell_type": "markdown",
   "id": "ed31adb6-53bf-4d9f-9af3-d5ded000b12c",
   "metadata": {},
   "source": [
    "## Zonal Stats for sepal"
   ]
  },
  {
   "cell_type": "code",
   "execution_count": 7,
   "id": "f5ed013d-96eb-44ab-a54c-62636f623415",
   "metadata": {},
   "outputs": [],
   "source": [
    "def zonal_stat_sepal(raster, shapefile):\n",
    "    \"\"\"\n",
    "    Input\n",
    "    Raster: projected raster file\n",
    "    shapefile: projected shapefile \n",
    "    \n",
    "    Output: Categorical zonal stats\n",
    "    \"\"\"\n",
    "    \n",
    "    with rasterio.open(raster) as src:\n",
    "        array= src.read(1)\n",
    "        \n",
    "        c_sepal = {1:'Degraded', 2:'Stable',3:'Improved'} #categorical rename\n",
    "        affine = src.transform\n",
    "        z_stat = zonal_stats(shapefile, array, affine=affine, categorical=True, category_map=c_sepal, nodata=0.0)\n",
    "        import copy\n",
    "        s_stat = z_stat[0]\n",
    "        to_km = affine[0]**2/1e+6\n",
    "        sepal_stat = s_stat.copy()\n",
    "        sepal_stat.update((x, round(y*to_km,3)) for x,y in sepal_stat.items())\n",
    "        return sepal_stat"
   ]
  },
  {
   "cell_type": "code",
   "execution_count": 8,
   "id": "d2eb63d1-087f-4c04-87b6-dec9d7e951cb",
   "metadata": {},
   "outputs": [],
   "source": [
    "#feed in the sepal data\n",
    "# projected_ = dstpath\n",
    "\n",
    "# rasterlst = [i for i in os.listdir(projected_) if i.endswith('tif')]\n",
    "# se_result = []\n",
    "# for raster in rasterlst:\n",
    "#     path = projected_+raster\n",
    "#     dicts =zonal_stat_sepal(path, input_shapefile)\n",
    "#     se_result.append(dicts)"
   ]
  },
  {
   "cell_type": "code",
   "execution_count": 9,
   "id": "4c6bedc5",
   "metadata": {},
   "outputs": [],
   "source": [
    "def sepal(srcpath,dstpath,dstcrs,input_shapefile):\n",
    "    #reprojection\n",
    "    reprojection(srcpath, dstpath, dstcrs)\n",
    "    \n",
    "    #for loop to pass each sub-indicator, compute and save the zonal stats in a list\n",
    "    rasterlst = [i for i in os.listdir(dstpath) if i.endswith('tif')]\n",
    "    se_result = []\n",
    "    for raster in rasterlst:\n",
    "        path = dstpath+raster\n",
    "        dicts =zonal_stat_sepal(path, input_shapefile)\n",
    "        se_result.append(dicts)\n",
    "    return se_result"
   ]
  },
  {
   "cell_type": "code",
   "execution_count": 12,
   "id": "1806660e-2b17-4026-ac44-651ad05f196c",
   "metadata": {},
   "outputs": [],
   "source": [
    "Jigawa_landsat =sepal(srcpath,dstpath,dstcrs,input_shapefile)"
   ]
  },
  {
   "cell_type": "code",
   "execution_count": 12,
   "id": "5e3a9978",
   "metadata": {
    "scrolled": true
   },
   "outputs": [
    {
     "data": {
      "text/plain": [
       "[{'Degraded': 1736.001, 'Stable': 21407.891, 'Improved': 681.382},\n",
       " {'Degraded': 21.504, 'Stable': 23766.044, 'Improved': 48.352},\n",
       " {'Degraded': 1695.612, 'Stable': 21436.658, 'Improved': 665.43},\n",
       " {'Degraded': 35.986, 'Stable': 23758.241, 'Improved': 5.036}]"
      ]
     },
     "execution_count": 12,
     "metadata": {},
     "output_type": "execute_result"
    }
   ],
   "source": [
    "Jigawa_landsat = sepal(srcpath,dstpath,dstcrs,input_shapefile)\n",
    "Jigawa_landsat"
   ]
  },
  {
   "cell_type": "code",
   "execution_count": 13,
   "id": "b630a37f",
   "metadata": {},
   "outputs": [
    {
     "data": {
      "text/plain": [
       "[{'Degraded': 646.407, 'Stable': 14458.896, 'Improved': 8890.627},\n",
       " {'Degraded': 21.397, 'Stable': 23937.708, 'Improved': 48.463},\n",
       " {'Degraded': 599.183, 'Stable': 14488.039, 'Improved': 8881.052},\n",
       " {'Degraded': 35.959, 'Stable': 23928.722, 'Improved': 5.097}]"
      ]
     },
     "execution_count": 13,
     "metadata": {},
     "output_type": "execute_result"
    }
   ],
   "source": [
    "srcpath = \"data/sepal/Modis/Jigawa/\"\n",
    "dstpath = \"data/sepal/Modis/Jigawa/reprojected/\"\n",
    "dstcrs = 'EPSG:26332'\n",
    "boudary_shp_path = \"data/boundary shapefile/Bauchi.shp\" # from FAO GAUL\"\n",
    "input_shapefile = gp.read_file(boudary_shp_path).to_crs(dstcrs)\n",
    "Jigawa_Modis =sepal(srcpath,dstpath,dstcrs,input_shapefile)\n",
    "Jigawa_Modis"
   ]
  },
  {
   "cell_type": "code",
   "execution_count": 20,
   "id": "d95399f4",
   "metadata": {},
   "outputs": [],
   "source": [
    "srcpath = \"data/sepal/Modis/Bauchi/\"\n",
    "dstpath = \"data/sepal/Modis/Bauchi/reprojected/\"\n",
    "dstcrs = 'EPSG:26332'\n",
    "boudary_shp_path = \"data/boundary shapefile/Bauchi.shp\" # from FAO GAUL\"\n",
    "input_shapefile = gp.read_file(boudary_shp_path).to_crs(dstcrs)"
   ]
  },
  {
   "cell_type": "code",
   "execution_count": 21,
   "id": "5be4bb3b",
   "metadata": {},
   "outputs": [
    {
     "data": {
      "text/plain": [
       "[{'Degraded': 9076.795, 'Stable': 39382.868, 'Improved': 367.741},\n",
       " {'Degraded': 63.195, 'Stable': 48649.027, 'Improved': 131.828},\n",
       " {'Degraded': 9023.652, 'Stable': 39494.6, 'Improved': 276.761},\n",
       " {'Degraded': 58.712, 'Stable': 48734.487, 'Improved': 0.73}]"
      ]
     },
     "execution_count": 21,
     "metadata": {},
     "output_type": "execute_result"
    }
   ],
   "source": [
    "Bauchi_landsat =sepal(srcpath,dstpath,dstcrs,input_shapefile)\n",
    "Bauchi_landsat"
   ]
  },
  {
   "cell_type": "markdown",
   "id": "39c4ef35-e85c-499f-99d7-e22dd4113dec",
   "metadata": {},
   "source": [
    "## Zonal Stats for Trends Earth"
   ]
  },
  {
   "cell_type": "markdown",
   "id": "03945df2-c413-44fd-a2d2-4838d1ab1512",
   "metadata": {},
   "source": [
    "**Reproject raster**  \n",
    "Both sub-indicator and the SDG indicator raster"
   ]
  },
  {
   "cell_type": "code",
   "execution_count": 20,
   "id": "6deac0b9-1c23-49d2-9aed-d6496e5277ed",
   "metadata": {},
   "outputs": [],
   "source": [
    "# Data Reprojection\n",
    "srcpath = \"data/Trend earth/Bauchi/\"\n",
    "dstpath = \"data/Trend earth/Bauchi/reprojected/\"\n",
    "dstcrs = 'EPSG:26332'\n",
    "reprojection(srcpath, dstpath, dstcrs)"
   ]
  },
  {
   "cell_type": "markdown",
   "id": "d2e78307-51be-4450-bbcd-10490a97aa47",
   "metadata": {},
   "source": [
    "Zonal stats for sub-indicator"
   ]
  },
  {
   "cell_type": "code",
   "execution_count": 34,
   "id": "2fc09709-7266-437d-b502-75e94780d780",
   "metadata": {
    "tags": []
   },
   "outputs": [],
   "source": [
    "TE_subindicator = \"data/Trend earth/Bauchi/reprojected/Bauchi_prj.tif\"\n",
    "\n",
    "def te_subindicator_reclassifcation(raster):\n",
    "    \"\"\"\n",
    "    The sub-indicator raster is a collection of multiple bands with different band index;\n",
    "    Land cover change: band 12\n",
    "    Productivity: band 7\n",
    "    Soil Organic Carbon: band 21\n",
    "    \n",
    "    Each band has different classification scheme with different values(and different nodata value)\n",
    "    \n",
    "    Input Raster: path to the sub-indicator raster\n",
    "    Output: A reclassified array collection of sub-indicators\n",
    "    \"\"\"\n",
    "    sr = rasterio.open(raster)\n",
    "    array = sr.read()\n",
    "\n",
    "    band12 =sr.read(12)\n",
    "    LUC = np.full(sr.shape, np.nan)\n",
    "    LUC[band12 == -1] = -1\n",
    "    LUC[band12 == 0] = 0\n",
    "    LUC[band12 == 1] = 1\n",
    "\n",
    "    band7 = sr.read(7)\n",
    "    productivity = np.full(sr.shape, np.nan)\n",
    "    productivity[(band7 > -32768) & (band7 <= -2)] = -2\n",
    "    productivity[(band7 > -2) & (band7 <= 1)] = 1\n",
    "    productivity[(band7 > 1) & (band7 <= 10)] = 10\n",
    "\n",
    "    band21 = sr.read(21)\n",
    "    SOC = np.full(sr.shape, np.nan)\n",
    "    SOC[(band21 > -32768) & (band21 <= -10)] = -10\n",
    "    SOC[(band21 > -10) & (band21 <= 9)] = 9\n",
    "    SOC[(band21 > 9) & (band21 <= 100)] = 100\n",
    "\n",
    "    TE_array = []\n",
    "    TE_array.append(LUC)\n",
    "    TE_array.append(productivity)\n",
    "    TE_array.append(SOC)\n",
    "    return TE_array\n",
    "\n",
    "sub_indicators_array = te_subindicator_reclassifcation(TE_subindicator)"
   ]
  },
  {
   "cell_type": "code",
   "execution_count": 35,
   "id": "56c47150-6f87-438b-9688-62e9f02d3785",
   "metadata": {
    "scrolled": true
   },
   "outputs": [
    {
     "data": {
      "text/plain": [
       "[{'Degraded': 136.833, 'Stable': 48643.951, 'Improved': 234.37},\n",
       " {'Degraded': 5053.474, 'Stable': 23013.628, 'Improved': 20948.053},\n",
       " {'Degraded': 39.479, 'Stable': 48923.057}]"
      ]
     },
     "execution_count": 35,
     "metadata": {},
     "output_type": "execute_result"
    }
   ],
   "source": [
    "def te_subindicator_zonal_stats(raster,array, shapefile):\n",
    "    \"\"\"\n",
    "    Compute zonal stats for TE sub-indicator\n",
    "    raster: path to the sub-indicator\n",
    "    array: TE_array pass in as a for loop\n",
    "    shapefile: projected boundary shapefile\n",
    "    \n",
    "    Output: Categorical Zonal stats\n",
    "    A for loop is needed to pass the array and result to be stored in a list\n",
    "    \"\"\"\n",
    "    src = rasterio.open(raster)\n",
    "    affine = src.transform\n",
    "    c_trend = {np.unique(array)[0]:'Degraded', np.unique(array)[1]:'Stable',np.unique(array)[2]:'Improved'} #categorical rename\n",
    "    z_stat = zonal_stats(shapefile, array, affine=affine, categorical=True, category_map=c_trend, nodata=-99999999)\n",
    "    import copy\n",
    "    t_stat = z_stat[0]\n",
    "    to_km = affine[0]**2/1e+6\n",
    "    te_stat = t_stat.copy()\n",
    "    te_stat.update((x, round(y*to_km, 3)) for x,y in te_stat.items())\n",
    "    return te_stat\n",
    "\n",
    "te_result = []\n",
    "for i in sub_indicators_array:\n",
    "    result = te_subindicator_zonal_stats(TE_subindicator, i, input_shapefile)\n",
    "    te_result.append(result)\n",
    "    \n",
    "te_result"
   ]
  },
  {
   "cell_type": "code",
   "execution_count": 18,
   "id": "4a8cdcc1",
   "metadata": {},
   "outputs": [],
   "source": [
    "def TE_sdg_indicator(raster, shapefile):\n",
    "    src = rasterio.open(raster)\n",
    "    array= src.read(1)\n",
    "    affine = src.transform\n",
    "    c_trend = {np.unique(array)[1]:'Degraded', np.unique(array)[2]:'Stable',np.unique(array)[3]:'Improved'} #categorical rename\n",
    "    z_stat = zonal_stats(shapefile, array, affine=affine, categorical=True, category_map=c_trend, nodata=-32768)\n",
    "    import copy\n",
    "    t_stat = z_stat[0]\n",
    "    to_km = affine[0]**2/1e+6\n",
    "    te_stat = t_stat.copy()\n",
    "    te_stat.update((x, round(y*to_km, 3)) for x,y in te_stat.items())\n",
    "    return te_stat"
   ]
  },
  {
   "cell_type": "code",
   "execution_count": 16,
   "id": "1aae987e",
   "metadata": {},
   "outputs": [
    {
     "data": {
      "text/plain": [
       "{'Degraded': 6077.774, 'Stable': 12746.734, 'Improved': 5139.374}"
      ]
     },
     "execution_count": 16,
     "metadata": {},
     "output_type": "execute_result"
    }
   ],
   "source": [
    "path = \"data/Trend earth/Jigawa/reprojected/TE_Jigawa_prj.tif\"\n",
    "boudary_shp_path = \"data/boundary shapefile/Jigawa.shp\" # from FAO GAU\"\n",
    "input_shapefile = gp.read_file(boudary_shp_path).to_crs(dstcrs)\n",
    "Jigawa_SDG_IndicatorTE = TE_sdg_indicator(path,input_shapefile)\n",
    "Jigawa_SDG_IndicatorTE"
   ]
  },
  {
   "cell_type": "code",
   "execution_count": 21,
   "id": "76efc9b1",
   "metadata": {
    "scrolled": true
   },
   "outputs": [
    {
     "data": {
      "text/plain": [
       "{'Degraded': 24672.737, 'Stable': 16663.814, 'Improved': 7616.879}"
      ]
     },
     "execution_count": 21,
     "metadata": {},
     "output_type": "execute_result"
    }
   ],
   "source": [
    "path = \"data/Trend earth/Bauchi/reprojected/Bauchi_sdg_prj.tif\"\n",
    "boudary_shp_path = \"data/boundary shapefile/Bauchi.shp\" # from FAO GAU\"\n",
    "input_shapefile = gp.read_file(boudary_shp_path).to_crs(dstcrs)\n",
    "Bauchi_SDG_IndicatorTE = TE_sdg_indicator(path,input_shapefile)\n",
    "Bauchi_SDG_IndicatorTE"
   ]
  },
  {
   "cell_type": "markdown",
   "id": "c0410437-2fe3-456a-a456-ccbf83fa4782",
   "metadata": {},
   "source": [
    "Chart\n",
    "========"
   ]
  },
  {
   "cell_type": "code",
   "execution_count": 16,
   "id": "ed2ef816-7a38-4925-a5ea-86decbb72b5c",
   "metadata": {},
   "outputs": [],
   "source": [
    "import matplotlib.pyplot as plt"
   ]
  }
 ],
 "metadata": {
  "kernelspec": {
   "display_name": "Python 3",
   "language": "python",
   "name": "python3"
  },
  "language_info": {
   "codemirror_mode": {
    "name": "ipython",
    "version": 3
   },
   "file_extension": ".py",
   "mimetype": "text/x-python",
   "name": "python",
   "nbconvert_exporter": "python",
   "pygments_lexer": "ipython3",
   "version": "3.7.10"
  }
 },
 "nbformat": 4,
 "nbformat_minor": 5
}
